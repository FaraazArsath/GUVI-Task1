{
  "nbformat": 4,
  "nbformat_minor": 0,
  "metadata": {
    "colab": {
      "name": "Guvi Task1.ipynb",
      "provenance": [],
      "mount_file_id": "1lp7VjVoFPrp8C-Db2dy33Yi0v8h6M0oi",
      "authorship_tag": "ABX9TyMRfWHZD0XtY0PnW9xp5bdW",
      "include_colab_link": true
    },
    "kernelspec": {
      "name": "python3",
      "display_name": "Python 3"
    },
    "language_info": {
      "name": "python"
    }
  },
  "cells": [
    {
      "cell_type": "markdown",
      "metadata": {
        "id": "view-in-github",
        "colab_type": "text"
      },
      "source": [
        "<a href=\"https://colab.research.google.com/github/FaraazArsath/GUVI-Task1/blob/main/Guvi_Task1.ipynb\" target=\"_parent\"><img src=\"https://colab.research.google.com/assets/colab-badge.svg\" alt=\"Open In Colab\"/></a>"
      ]
    },
    {
      "cell_type": "markdown",
      "source": [
        "**Assignment 1 - GUVI** \n",
        "Registration and Login system using Python, file handling\n"
      ],
      "metadata": {
        "id": "8mYepJB0d-fa"
      }
    },
    {
      "cell_type": "code",
      "execution_count": 3,
      "metadata": {
        "colab": {
          "base_uri": "https://localhost:8080/"
        },
        "id": "3qsQXaIYd6CM",
        "outputId": "8ca0597e-0413-4e3c-f202-4d0583665738"
      },
      "outputs": [
        {
          "output_type": "stream",
          "name": "stdout",
          "text": [
            "choose between Registration or Login or Forget Password (reg/login/forgotpss) : reg\n",
            "create username : abcd@gmail.com\n",
            "username credentials validated\n",
            "create password : Abcd2356@\n",
            "password credentials validated\n",
            "username and password successfully created. Login.\n"
          ]
        }
      ],
      "source": [
        "import re\n",
        "\n",
        "def register():\n",
        "  username = input(\"create username : \")\n",
        "  username_condition = r'^[a-zA-Z]+[\\._]?[a-zA-z 0-9]+[@]\\w+[.]\\w{2,3}$'\n",
        "  if re.search(username_condition,username):\n",
        "    print(\"username credentials validated\")\n",
        "  else:\n",
        "    print(\"username credentials not validated\")\n",
        "    register()\n",
        "\n",
        "  def passwd():\n",
        "    password = input(\"create password : \")\n",
        "    password_condition = r\"^(?=.*?[a-z])(?=.*?[A-Z])(?=.*?[0-9])(?=.*?[!@#$%^&*-]).{5,16}$\"\n",
        "    if re.search(password_condition,password):\n",
        "      print(\"password credentials validated\")\n",
        "      print(\"username and password successfully created. Login.\")\n",
        "    else:\n",
        "      print(\"password credentials not validated\")\n",
        "      passwd()\n",
        "\n",
        "  passwd()\n",
        "\n",
        "def forgetpassword():\n",
        "  username = input(\"enter the username: \")\n",
        "  file = open(\"database.txt\",\"r\")\n",
        "  lines = file.read()\n",
        "  if username not in lines:\n",
        "    print(\"username not exists\")\n",
        "    register()\n",
        "  else:\n",
        "    k=[]\n",
        "    v=[]\n",
        "    file = open(\"database.txt\",\"r\")\n",
        "    for x in file:\n",
        "      a,b=x.split()\n",
        "      b=b.strip()\n",
        "      k.append(a)\n",
        "      v.append(b)\n",
        "    data = dict(zip(k,v))\n",
        "    print(data[username])\n",
        "    \n",
        "\n",
        "def home():\n",
        "  option=input(\"choose between Registration or Login or Forget Password (reg/login/forgotpss) : \")\n",
        "  if option == \"reg\":\n",
        "    register()\n",
        "  elif option == \"login\":\n",
        "    username = input(\"Enter your username to login: \")\n",
        "    password = input(\"Enter your login password:  \")\n",
        "    file = open(\"database.txt\",\"r\")\n",
        "    for x in file.readlines():\n",
        "      login_details = x.split()\n",
        "      if username == login_details[0] and password == login_details[1]:\n",
        "        print(\"user credentials exists. Login successful\")\n",
        "    else:\n",
        "      print(\"user credentials doesn't exists\")\n",
        "      option = input(\"choose between Registration or Forget Password (reg/forgotpss) : \")\n",
        "      if option == \"reg\":\n",
        "        register()\n",
        "      else:\n",
        "        forgetpassword()\n",
        "  elif option == \"forgotpss\":\n",
        "    forgetpassword()\n",
        "  else:\n",
        "    home()\n",
        "\n",
        "home()\n"
      ]
    }
  ]
}